{
 "cells": [
  {
   "cell_type": "code",
   "execution_count": null,
   "metadata": {},
   "outputs": [],
   "source": [
    "import random\n",
    "\n",
    "target = random.randint(1, 100)\n",
    "while True:\n",
    "    guess = int(input(\"Guess a number between 1 and 100: \"))\n",
    "    if guess > target:\n",
    "        print(\"Too high!\")\n",
    "    elif guess < target:\n",
    "        print(\"Too low!\")\n",
    "    else:\n",
    "        print(\"Correct!\")\n",
    "        break\n"
   ]
  }
 ],
 "metadata": {
  "kernelspec": {
   "display_name": "Python 3",
   "language": "python",
   "name": "python3"
  },
  "language_info": {
   "codemirror_mode": {
    "name": "ipython",
    "version": 3
   },
   "file_extension": ".py",
   "mimetype": "text/x-python",
   "name": "python",
   "nbconvert_exporter": "python",
   "pygments_lexer": "ipython3",
   "version": "3.10.9"
  },
  "orig_nbformat": 4,
  "vscode": {
   "interpreter": {
    "hash": "47e11fd96469cad8fe73d014b87081821b70e8339ca847bccea2690019d2cb0b"
   }
  }
 },
 "nbformat": 4,
 "nbformat_minor": 2
}
